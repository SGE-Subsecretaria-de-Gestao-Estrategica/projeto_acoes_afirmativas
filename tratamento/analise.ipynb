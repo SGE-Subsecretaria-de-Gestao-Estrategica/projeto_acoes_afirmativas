{
 "cells": [
  {
   "cell_type": "markdown",
   "id": "8e7bed06",
   "metadata": {},
   "source": [
    "### Importações"
   ]
  },
  {
   "cell_type": "code",
   "execution_count": 86,
   "id": "d58f8de5",
   "metadata": {},
   "outputs": [],
   "source": [
    "import pandas as pd\n",
    "import numpy as np"
   ]
  },
  {
   "cell_type": "markdown",
   "id": "b89be371",
   "metadata": {},
   "source": [
    "### Constantes"
   ]
  },
  {
   "cell_type": "code",
   "execution_count": 87,
   "id": "d0288986",
   "metadata": {},
   "outputs": [],
   "source": [
    "ABA_ANALISE = \"MEXER_NESSA\"\n",
    "DATA_PATH   = \"/Users/gabrielribeirobizerril/Documents/GitHub/llm/editai_extractor_llm_based/tratamento/_data/output_capitais_pt2.xlsx\"\n",
    "NAME_NAN    = [\"não previu\", \"indisponível\", \"none\", \"ok\", \"nan\", \"na\"]"
   ]
  },
  {
   "cell_type": "markdown",
   "id": "e2a05a73",
   "metadata": {},
   "source": [
    "### Carregamento"
   ]
  },
  {
   "cell_type": "code",
   "execution_count": 88,
   "id": "fe3ea57b",
   "metadata": {},
   "outputs": [],
   "source": [
    "df = pd.read_excel(io=DATA_PATH, sheet_name=ABA_ANALISE)"
   ]
  },
  {
   "cell_type": "code",
   "execution_count": 89,
   "id": "d2de386d",
   "metadata": {},
   "outputs": [
    {
     "data": {
      "text/plain": [
       "Index(['uf', 'path_pdf', 'pdf', 'document', 'chunks_relevantes',\n",
       "       'texto_completo', 'valor_total', 'cotas_negras', 'cotas_indigenas',\n",
       "       'cotas_pcd', 'vagas_totais', 'observações', 'VALOR', 'PN', 'PI', 'PCD',\n",
       "       'PN2', 'PI2', 'PCD2'],\n",
       "      dtype='object')"
      ]
     },
     "execution_count": 89,
     "metadata": {},
     "output_type": "execute_result"
    }
   ],
   "source": [
    "df.columns"
   ]
  },
  {
   "cell_type": "code",
   "execution_count": 90,
   "id": "2dddd5ec",
   "metadata": {},
   "outputs": [
    {
     "data": {
      "text/plain": [
       "(144, 19)"
      ]
     },
     "execution_count": 90,
     "metadata": {},
     "output_type": "execute_result"
    }
   ],
   "source": [
    "df.shape"
   ]
  },
  {
   "cell_type": "markdown",
   "id": "f6bdd1f4",
   "metadata": {},
   "source": []
  },
  {
   "cell_type": "markdown",
   "id": "4073eea5",
   "metadata": {},
   "source": [
    "### Validação de Valores"
   ]
  },
  {
   "cell_type": "code",
   "execution_count": 91,
   "id": "c1b648e3",
   "metadata": {},
   "outputs": [],
   "source": [
    "# Excluir última linha (no excel era uma linha de valores totais)\n",
    "df = df.iloc[:-1]"
   ]
  },
  {
   "cell_type": "code",
   "execution_count": 97,
   "id": "5e240bcb",
   "metadata": {},
   "outputs": [],
   "source": [
    "# Corrige os valores que estão vazios\n",
    "df[\"cotas_negras\"]    = df[\"cotas_negras\"].apply(\n",
    "    lambda x: np.nan if str(x).strip().lower() in NAME_NAN else x\n",
    ")\n",
    "\n",
    "df[\"cotas_indigenas\"] = df[\"cotas_indigenas\"].apply(\n",
    "    lambda x: np.nan if str(x).strip().lower() in NAME_NAN else x\n",
    ")\n",
    "\n",
    "df[\"cotas_pcd\"]       = df[\"cotas_pcd\"].apply(\n",
    "    lambda x: np.nan if str(x).strip().lower() in NAME_NAN else x\n",
    ")\n",
    "\n",
    "df[\"cotas_negras\"] = df[\"cotas_negras\"].astype(str).str.replace(\",\", \".\", regex=False)\n",
    "df[\"cotas_indigenas\"] = df[\"cotas_indigenas\"].astype(str).str.replace(\",\", \".\", regex=False)\n",
    "df[\"cotas_pcd\"] = df[\"cotas_pcd\"].astype(str).str.replace(\",\", \".\", regex=False)"
   ]
  },
  {
   "cell_type": "code",
   "execution_count": 98,
   "id": "346a71f4",
   "metadata": {},
   "outputs": [],
   "source": [
    "# Passa coluna de cotas para decimais \n",
    "df[\"cotas_negras\"]    = df[\"cotas_negras\"].astype(float) / 100\n",
    "df[\"cotas_indigenas\"] = df[\"cotas_indigenas\"].astype(float) / 100\n",
    "df[\"cotas_pcd\"]       = df[\"cotas_pcd\"].astype(float) / 100"
   ]
  },
  {
   "cell_type": "markdown",
   "id": "97c689fc",
   "metadata": {},
   "source": [
    "### Filtros"
   ]
  },
  {
   "cell_type": "code",
   "execution_count": 99,
   "id": "bfa32692",
   "metadata": {},
   "outputs": [],
   "source": [
    "df = df[[\"uf\", \"pdf\", \"cotas_negras\", \"cotas_indigenas\", \"cotas_pcd\", \"vagas_totais\", \"valor_total\"]]"
   ]
  },
  {
   "cell_type": "markdown",
   "id": "97261242",
   "metadata": {},
   "source": [
    "### Instrumento de Fomento"
   ]
  },
  {
   "cell_type": "code",
   "execution_count": 100,
   "id": "befe62ae",
   "metadata": {},
   "outputs": [],
   "source": [
    "df[\"instrumento_fomento\"] = df[\"pdf\"].apply(\n",
    "    lambda x: x.split(\"_\")[2].split(\".\")[0]\n",
    ")"
   ]
  },
  {
   "cell_type": "markdown",
   "id": "854dbe03",
   "metadata": {},
   "source": [
    "### Calculo de Valor e Vagas"
   ]
  },
  {
   "cell_type": "code",
   "execution_count": 101,
   "id": "c3df136c",
   "metadata": {},
   "outputs": [],
   "source": [
    "for categoria in [\"negras\", \"indigenas\", \"pcd\"]:\n",
    "    df[f\"valor_{categoria}\"] = df[f\"cotas_{categoria}\"] * df[\"valor_total\"]\n",
    "    df[f\"vagas_{categoria}\"] = df[f\"cotas_{categoria}\"] * df[\"vagas_totais\"]"
   ]
  },
  {
   "cell_type": "code",
   "execution_count": null,
   "id": "ef56bee9",
   "metadata": {},
   "outputs": [
    {
     "data": {
      "text/html": [
       "<div>\n",
       "<style scoped>\n",
       "    .dataframe tbody tr th:only-of-type {\n",
       "        vertical-align: middle;\n",
       "    }\n",
       "\n",
       "    .dataframe tbody tr th {\n",
       "        vertical-align: top;\n",
       "    }\n",
       "\n",
       "    .dataframe thead th {\n",
       "        text-align: right;\n",
       "    }\n",
       "</style>\n",
       "<table border=\"1\" class=\"dataframe\">\n",
       "  <thead>\n",
       "    <tr style=\"text-align: right;\">\n",
       "      <th></th>\n",
       "      <th>cotas_negras</th>\n",
       "      <th>cotas_indigenas</th>\n",
       "      <th>cotas_pcd</th>\n",
       "      <th>vagas_totais</th>\n",
       "      <th>valor_total</th>\n",
       "      <th>valor_negras</th>\n",
       "      <th>vagas_negras</th>\n",
       "      <th>valor_indigenas</th>\n",
       "      <th>vagas_indigenas</th>\n",
       "      <th>valor_pcd</th>\n",
       "      <th>vagas_pcd</th>\n",
       "    </tr>\n",
       "  </thead>\n",
       "  <tbody>\n",
       "    <tr>\n",
       "      <th>count</th>\n",
       "      <td>125.000000</td>\n",
       "      <td>119.000000</td>\n",
       "      <td>97.000000</td>\n",
       "      <td>132.000000</td>\n",
       "      <td>1.430000e+02</td>\n",
       "      <td>1.250000e+02</td>\n",
       "      <td>116.000000</td>\n",
       "      <td>1.190000e+02</td>\n",
       "      <td>113.000000</td>\n",
       "      <td>9.700000e+01</td>\n",
       "      <td>88.000000</td>\n",
       "    </tr>\n",
       "    <tr>\n",
       "      <th>mean</th>\n",
       "      <td>0.269280</td>\n",
       "      <td>0.112381</td>\n",
       "      <td>0.057377</td>\n",
       "      <td>47.696970</td>\n",
       "      <td>1.776856e+06</td>\n",
       "      <td>4.931718e+05</td>\n",
       "      <td>12.813534</td>\n",
       "      <td>2.077035e+05</td>\n",
       "      <td>5.429104</td>\n",
       "      <td>1.088286e+05</td>\n",
       "      <td>2.756041</td>\n",
       "    </tr>\n",
       "    <tr>\n",
       "      <th>std</th>\n",
       "      <td>0.068288</td>\n",
       "      <td>0.039696</td>\n",
       "      <td>0.021615</td>\n",
       "      <td>65.167423</td>\n",
       "      <td>3.183502e+06</td>\n",
       "      <td>8.090976e+05</td>\n",
       "      <td>16.618149</td>\n",
       "      <td>3.522846e+05</td>\n",
       "      <td>7.298662</td>\n",
       "      <td>1.841572e+05</td>\n",
       "      <td>3.623289</td>\n",
       "    </tr>\n",
       "    <tr>\n",
       "      <th>min</th>\n",
       "      <td>0.200000</td>\n",
       "      <td>0.083300</td>\n",
       "      <td>0.050000</td>\n",
       "      <td>1.000000</td>\n",
       "      <td>1.000000e+05</td>\n",
       "      <td>2.500000e+04</td>\n",
       "      <td>0.250000</td>\n",
       "      <td>1.000000e+04</td>\n",
       "      <td>0.100000</td>\n",
       "      <td>5.000000e+03</td>\n",
       "      <td>0.050000</td>\n",
       "    </tr>\n",
       "    <tr>\n",
       "      <th>25%</th>\n",
       "      <td>0.250000</td>\n",
       "      <td>0.100000</td>\n",
       "      <td>0.050000</td>\n",
       "      <td>13.750000</td>\n",
       "      <td>4.764340e+05</td>\n",
       "      <td>1.250000e+05</td>\n",
       "      <td>3.750000</td>\n",
       "      <td>5.000000e+04</td>\n",
       "      <td>1.800000</td>\n",
       "      <td>2.570000e+04</td>\n",
       "      <td>1.000000</td>\n",
       "    </tr>\n",
       "    <tr>\n",
       "      <th>50%</th>\n",
       "      <td>0.250000</td>\n",
       "      <td>0.100000</td>\n",
       "      <td>0.050000</td>\n",
       "      <td>29.000000</td>\n",
       "      <td>8.000000e+05</td>\n",
       "      <td>2.250000e+05</td>\n",
       "      <td>7.500000</td>\n",
       "      <td>9.000000e+04</td>\n",
       "      <td>3.000000</td>\n",
       "      <td>4.880000e+04</td>\n",
       "      <td>1.675000</td>\n",
       "    </tr>\n",
       "    <tr>\n",
       "      <th>75%</th>\n",
       "      <td>0.250000</td>\n",
       "      <td>0.100000</td>\n",
       "      <td>0.050000</td>\n",
       "      <td>52.000000</td>\n",
       "      <td>2.000000e+06</td>\n",
       "      <td>6.000000e+05</td>\n",
       "      <td>13.875000</td>\n",
       "      <td>2.110367e+05</td>\n",
       "      <td>6.000000</td>\n",
       "      <td>1.200980e+05</td>\n",
       "      <td>3.000000</td>\n",
       "    </tr>\n",
       "    <tr>\n",
       "      <th>max</th>\n",
       "      <td>0.500000</td>\n",
       "      <td>0.250000</td>\n",
       "      <td>0.200000</td>\n",
       "      <td>510.000000</td>\n",
       "      <td>2.500000e+07</td>\n",
       "      <td>6.075000e+06</td>\n",
       "      <td>127.500000</td>\n",
       "      <td>2.500000e+06</td>\n",
       "      <td>51.000000</td>\n",
       "      <td>1.250000e+06</td>\n",
       "      <td>25.500000</td>\n",
       "    </tr>\n",
       "  </tbody>\n",
       "</table>\n",
       "</div>"
      ],
      "text/plain": [
       "       cotas_negras  cotas_indigenas  cotas_pcd  vagas_totais   valor_total  \\\n",
       "count    125.000000       119.000000  97.000000    132.000000  1.430000e+02   \n",
       "mean       0.269280         0.112381   0.057377     47.696970  1.776856e+06   \n",
       "std        0.068288         0.039696   0.021615     65.167423  3.183502e+06   \n",
       "min        0.200000         0.083300   0.050000      1.000000  1.000000e+05   \n",
       "25%        0.250000         0.100000   0.050000     13.750000  4.764340e+05   \n",
       "50%        0.250000         0.100000   0.050000     29.000000  8.000000e+05   \n",
       "75%        0.250000         0.100000   0.050000     52.000000  2.000000e+06   \n",
       "max        0.500000         0.250000   0.200000    510.000000  2.500000e+07   \n",
       "\n",
       "       valor_negras  vagas_negras  valor_indigenas  vagas_indigenas  \\\n",
       "count  1.250000e+02    116.000000     1.190000e+02       113.000000   \n",
       "mean   4.931718e+05     12.813534     2.077035e+05         5.429104   \n",
       "std    8.090976e+05     16.618149     3.522846e+05         7.298662   \n",
       "min    2.500000e+04      0.250000     1.000000e+04         0.100000   \n",
       "25%    1.250000e+05      3.750000     5.000000e+04         1.800000   \n",
       "50%    2.250000e+05      7.500000     9.000000e+04         3.000000   \n",
       "75%    6.000000e+05     13.875000     2.110367e+05         6.000000   \n",
       "max    6.075000e+06    127.500000     2.500000e+06        51.000000   \n",
       "\n",
       "          valor_pcd  vagas_pcd  \n",
       "count  9.700000e+01  88.000000  \n",
       "mean   1.088286e+05   2.756041  \n",
       "std    1.841572e+05   3.623289  \n",
       "min    5.000000e+03   0.050000  \n",
       "25%    2.570000e+04   1.000000  \n",
       "50%    4.880000e+04   1.675000  \n",
       "75%    1.200980e+05   3.000000  \n",
       "max    1.250000e+06  25.500000  "
      ]
     },
     "execution_count": 84,
     "metadata": {},
     "output_type": "execute_result"
    }
   ],
   "source": [
    "df.describe()"
   ]
  },
  {
   "cell_type": "markdown",
   "id": "ee0ef313",
   "metadata": {},
   "source": []
  }
 ],
 "metadata": {
  "kernelspec": {
   "display_name": ".venv",
   "language": "python",
   "name": "python3"
  },
  "language_info": {
   "codemirror_mode": {
    "name": "ipython",
    "version": 3
   },
   "file_extension": ".py",
   "mimetype": "text/x-python",
   "name": "python",
   "nbconvert_exporter": "python",
   "pygments_lexer": "ipython3",
   "version": "3.11.0"
  }
 },
 "nbformat": 4,
 "nbformat_minor": 5
}
