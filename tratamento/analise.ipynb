{
 "cells": [
  {
   "cell_type": "markdown",
   "id": "8e7bed06",
   "metadata": {},
   "source": [
    "### Importações"
   ]
  },
  {
   "cell_type": "code",
   "execution_count": 2,
   "id": "d58f8de5",
   "metadata": {},
   "outputs": [],
   "source": [
    "import pandas as pd\n",
    "import numpy as np"
   ]
  },
  {
   "cell_type": "markdown",
   "id": "b89be371",
   "metadata": {},
   "source": [
    "### Constantes"
   ]
  },
  {
   "cell_type": "code",
   "execution_count": 3,
   "id": "d0288986",
   "metadata": {},
   "outputs": [],
   "source": [
    "ABA_ANALISE = \"MEXER_NESSA\"\n",
    "DATA_PATH   = \"/Users/gabrielribeirobizerril/Documents/GitHub/llm/editai_extractor_llm_based/tratamento/_data/output_capitais_pt2.xlsx\"\n",
    "NAME_NAN    = [\"não previu\", \"indisponível\", \"none\", \"ok\", \"nan\", \"na\"]"
   ]
  },
  {
   "cell_type": "markdown",
   "id": "e2a05a73",
   "metadata": {},
   "source": [
    "### Carregamento"
   ]
  },
  {
   "cell_type": "code",
   "execution_count": 4,
   "id": "fe3ea57b",
   "metadata": {},
   "outputs": [],
   "source": [
    "df = pd.read_excel(io=DATA_PATH, sheet_name=ABA_ANALISE)"
   ]
  },
  {
   "cell_type": "code",
   "execution_count": 5,
   "id": "d2de386d",
   "metadata": {},
   "outputs": [
    {
     "data": {
      "text/plain": [
       "Index(['uf', 'path_pdf', 'pdf', 'document', 'chunks_relevantes',\n",
       "       'texto_completo', 'valor_total', 'cotas_negras', 'cotas_indigenas',\n",
       "       'cotas_pcd', 'vagas_totais', 'observações', 'VALOR', 'PN', 'PI', 'PCD',\n",
       "       'PN2', 'PI2', 'PCD2'],\n",
       "      dtype='object')"
      ]
     },
     "execution_count": 5,
     "metadata": {},
     "output_type": "execute_result"
    }
   ],
   "source": [
    "df.columns"
   ]
  },
  {
   "cell_type": "code",
   "execution_count": 6,
   "id": "2dddd5ec",
   "metadata": {},
   "outputs": [
    {
     "data": {
      "text/plain": [
       "(144, 19)"
      ]
     },
     "execution_count": 6,
     "metadata": {},
     "output_type": "execute_result"
    }
   ],
   "source": [
    "df.shape"
   ]
  },
  {
   "cell_type": "markdown",
   "id": "f6bdd1f4",
   "metadata": {},
   "source": []
  },
  {
   "cell_type": "markdown",
   "id": "4073eea5",
   "metadata": {},
   "source": [
    "### Validação de Valores"
   ]
  },
  {
   "cell_type": "code",
   "execution_count": 7,
   "id": "c1b648e3",
   "metadata": {},
   "outputs": [],
   "source": [
    "# Excluir última linha (no excel era uma linha de valores totais)\n",
    "df = df.iloc[:-1]"
   ]
  },
  {
   "cell_type": "code",
   "execution_count": 8,
   "id": "5e240bcb",
   "metadata": {},
   "outputs": [],
   "source": [
    "# Corrige os valores que estão vazios\n",
    "df[\"cotas_negras\"]    = df[\"cotas_negras\"].apply(\n",
    "    lambda x: np.nan if str(x).strip().lower() in NAME_NAN else x\n",
    ")\n",
    "\n",
    "df[\"cotas_indigenas\"] = df[\"cotas_indigenas\"].apply(\n",
    "    lambda x: np.nan if str(x).strip().lower() in NAME_NAN else x\n",
    ")\n",
    "\n",
    "df[\"cotas_pcd\"]       = df[\"cotas_pcd\"].apply(\n",
    "    lambda x: np.nan if str(x).strip().lower() in NAME_NAN else x\n",
    ")\n",
    "\n",
    "df[\"cotas_negras\"] = df[\"cotas_negras\"].astype(str).str.replace(\",\", \".\", regex=False)\n",
    "df[\"cotas_indigenas\"] = df[\"cotas_indigenas\"].astype(str).str.replace(\",\", \".\", regex=False)\n",
    "df[\"cotas_pcd\"] = df[\"cotas_pcd\"].astype(str).str.replace(\",\", \".\", regex=False)"
   ]
  },
  {
   "cell_type": "code",
   "execution_count": 9,
   "id": "346a71f4",
   "metadata": {},
   "outputs": [],
   "source": [
    "# Passa coluna de cotas para decimais \n",
    "df[\"cotas_negras\"]    = df[\"cotas_negras\"].astype(float) / 100\n",
    "df[\"cotas_indigenas\"] = df[\"cotas_indigenas\"].astype(float) / 100\n",
    "df[\"cotas_pcd\"]       = df[\"cotas_pcd\"].astype(float) / 100"
   ]
  },
  {
   "cell_type": "markdown",
   "id": "97c689fc",
   "metadata": {},
   "source": [
    "### Filtros"
   ]
  },
  {
   "cell_type": "code",
   "execution_count": 10,
   "id": "bfa32692",
   "metadata": {},
   "outputs": [],
   "source": [
    "df = df[[\"uf\", \"pdf\", \"cotas_negras\", \"cotas_indigenas\", \"cotas_pcd\", \"vagas_totais\", \"valor_total\"]]"
   ]
  },
  {
   "cell_type": "markdown",
   "id": "97261242",
   "metadata": {},
   "source": [
    "### Instrumento de Fomento"
   ]
  },
  {
   "cell_type": "code",
   "execution_count": 11,
   "id": "befe62ae",
   "metadata": {},
   "outputs": [],
   "source": [
    "df[\"instrumento_fomento\"] = df[\"pdf\"].apply(\n",
    "    lambda x: x.split(\"_\")[2].split(\".\")[0]\n",
    ")"
   ]
  },
  {
   "cell_type": "markdown",
   "id": "854dbe03",
   "metadata": {},
   "source": [
    "### Calculo de Valor e Vagas"
   ]
  },
  {
   "cell_type": "code",
   "execution_count": 12,
   "id": "c3df136c",
   "metadata": {},
   "outputs": [],
   "source": [
    "for categoria in [\"negras\", \"indigenas\", \"pcd\"]:\n",
    "    df[f\"valor_{categoria}\"] = df[f\"cotas_{categoria}\"] * df[\"valor_total\"]\n",
    "    df[f\"vagas_{categoria}\"] = df[f\"cotas_{categoria}\"] * df[\"vagas_totais\"]"
   ]
  },
  {
   "cell_type": "code",
   "execution_count": 13,
   "id": "ef56bee9",
   "metadata": {},
   "outputs": [
    {
     "data": {
      "text/html": [
       "<div>\n",
       "<style scoped>\n",
       "    .dataframe tbody tr th:only-of-type {\n",
       "        vertical-align: middle;\n",
       "    }\n",
       "\n",
       "    .dataframe tbody tr th {\n",
       "        vertical-align: top;\n",
       "    }\n",
       "\n",
       "    .dataframe thead th {\n",
       "        text-align: right;\n",
       "    }\n",
       "</style>\n",
       "<table border=\"1\" class=\"dataframe\">\n",
       "  <thead>\n",
       "    <tr style=\"text-align: right;\">\n",
       "      <th></th>\n",
       "      <th>cotas_negras</th>\n",
       "      <th>cotas_indigenas</th>\n",
       "      <th>cotas_pcd</th>\n",
       "      <th>vagas_totais</th>\n",
       "      <th>valor_total</th>\n",
       "      <th>valor_negras</th>\n",
       "      <th>vagas_negras</th>\n",
       "      <th>valor_indigenas</th>\n",
       "      <th>vagas_indigenas</th>\n",
       "      <th>valor_pcd</th>\n",
       "      <th>vagas_pcd</th>\n",
       "    </tr>\n",
       "  </thead>\n",
       "  <tbody>\n",
       "    <tr>\n",
       "      <th>count</th>\n",
       "      <td>125.000000</td>\n",
       "      <td>119.000000</td>\n",
       "      <td>123.000000</td>\n",
       "      <td>132.000000</td>\n",
       "      <td>1.430000e+02</td>\n",
       "      <td>1.250000e+02</td>\n",
       "      <td>116.000000</td>\n",
       "      <td>1.190000e+02</td>\n",
       "      <td>113.000000</td>\n",
       "      <td>1.230000e+02</td>\n",
       "      <td>114.000000</td>\n",
       "    </tr>\n",
       "    <tr>\n",
       "      <th>mean</th>\n",
       "      <td>0.269280</td>\n",
       "      <td>0.112381</td>\n",
       "      <td>0.058257</td>\n",
       "      <td>47.696970</td>\n",
       "      <td>1.776856e+06</td>\n",
       "      <td>4.931718e+05</td>\n",
       "      <td>12.813534</td>\n",
       "      <td>2.077035e+05</td>\n",
       "      <td>5.429104</td>\n",
       "      <td>9.991963e+04</td>\n",
       "      <td>2.721768</td>\n",
       "    </tr>\n",
       "    <tr>\n",
       "      <th>std</th>\n",
       "      <td>0.068288</td>\n",
       "      <td>0.039696</td>\n",
       "      <td>0.021869</td>\n",
       "      <td>65.167423</td>\n",
       "      <td>3.183502e+06</td>\n",
       "      <td>8.090976e+05</td>\n",
       "      <td>16.618149</td>\n",
       "      <td>3.522846e+05</td>\n",
       "      <td>7.298662</td>\n",
       "      <td>1.681021e+05</td>\n",
       "      <td>3.372575</td>\n",
       "    </tr>\n",
       "    <tr>\n",
       "      <th>min</th>\n",
       "      <td>0.200000</td>\n",
       "      <td>0.083300</td>\n",
       "      <td>0.040000</td>\n",
       "      <td>1.000000</td>\n",
       "      <td>1.000000e+05</td>\n",
       "      <td>2.500000e+04</td>\n",
       "      <td>0.250000</td>\n",
       "      <td>1.000000e+04</td>\n",
       "      <td>0.100000</td>\n",
       "      <td>5.000000e+03</td>\n",
       "      <td>0.050000</td>\n",
       "    </tr>\n",
       "    <tr>\n",
       "      <th>25%</th>\n",
       "      <td>0.250000</td>\n",
       "      <td>0.100000</td>\n",
       "      <td>0.050000</td>\n",
       "      <td>13.750000</td>\n",
       "      <td>4.764340e+05</td>\n",
       "      <td>1.250000e+05</td>\n",
       "      <td>3.750000</td>\n",
       "      <td>5.000000e+04</td>\n",
       "      <td>1.800000</td>\n",
       "      <td>2.641250e+04</td>\n",
       "      <td>1.000000</td>\n",
       "    </tr>\n",
       "    <tr>\n",
       "      <th>50%</th>\n",
       "      <td>0.250000</td>\n",
       "      <td>0.100000</td>\n",
       "      <td>0.050000</td>\n",
       "      <td>29.000000</td>\n",
       "      <td>8.000000e+05</td>\n",
       "      <td>2.250000e+05</td>\n",
       "      <td>7.500000</td>\n",
       "      <td>9.000000e+04</td>\n",
       "      <td>3.000000</td>\n",
       "      <td>4.803921e+04</td>\n",
       "      <td>1.825000</td>\n",
       "    </tr>\n",
       "    <tr>\n",
       "      <th>75%</th>\n",
       "      <td>0.250000</td>\n",
       "      <td>0.100000</td>\n",
       "      <td>0.050000</td>\n",
       "      <td>52.000000</td>\n",
       "      <td>2.000000e+06</td>\n",
       "      <td>6.000000e+05</td>\n",
       "      <td>13.875000</td>\n",
       "      <td>2.110367e+05</td>\n",
       "      <td>6.000000</td>\n",
       "      <td>1.200000e+05</td>\n",
       "      <td>3.000000</td>\n",
       "    </tr>\n",
       "    <tr>\n",
       "      <th>max</th>\n",
       "      <td>0.500000</td>\n",
       "      <td>0.250000</td>\n",
       "      <td>0.200000</td>\n",
       "      <td>510.000000</td>\n",
       "      <td>2.500000e+07</td>\n",
       "      <td>6.075000e+06</td>\n",
       "      <td>127.500000</td>\n",
       "      <td>2.500000e+06</td>\n",
       "      <td>51.000000</td>\n",
       "      <td>1.250000e+06</td>\n",
       "      <td>25.500000</td>\n",
       "    </tr>\n",
       "  </tbody>\n",
       "</table>\n",
       "</div>"
      ],
      "text/plain": [
       "       cotas_negras  cotas_indigenas   cotas_pcd  vagas_totais   valor_total  \\\n",
       "count    125.000000       119.000000  123.000000    132.000000  1.430000e+02   \n",
       "mean       0.269280         0.112381    0.058257     47.696970  1.776856e+06   \n",
       "std        0.068288         0.039696    0.021869     65.167423  3.183502e+06   \n",
       "min        0.200000         0.083300    0.040000      1.000000  1.000000e+05   \n",
       "25%        0.250000         0.100000    0.050000     13.750000  4.764340e+05   \n",
       "50%        0.250000         0.100000    0.050000     29.000000  8.000000e+05   \n",
       "75%        0.250000         0.100000    0.050000     52.000000  2.000000e+06   \n",
       "max        0.500000         0.250000    0.200000    510.000000  2.500000e+07   \n",
       "\n",
       "       valor_negras  vagas_negras  valor_indigenas  vagas_indigenas  \\\n",
       "count  1.250000e+02    116.000000     1.190000e+02       113.000000   \n",
       "mean   4.931718e+05     12.813534     2.077035e+05         5.429104   \n",
       "std    8.090976e+05     16.618149     3.522846e+05         7.298662   \n",
       "min    2.500000e+04      0.250000     1.000000e+04         0.100000   \n",
       "25%    1.250000e+05      3.750000     5.000000e+04         1.800000   \n",
       "50%    2.250000e+05      7.500000     9.000000e+04         3.000000   \n",
       "75%    6.000000e+05     13.875000     2.110367e+05         6.000000   \n",
       "max    6.075000e+06    127.500000     2.500000e+06        51.000000   \n",
       "\n",
       "          valor_pcd   vagas_pcd  \n",
       "count  1.230000e+02  114.000000  \n",
       "mean   9.991963e+04    2.721768  \n",
       "std    1.681021e+05    3.372575  \n",
       "min    5.000000e+03    0.050000  \n",
       "25%    2.641250e+04    1.000000  \n",
       "50%    4.803921e+04    1.825000  \n",
       "75%    1.200000e+05    3.000000  \n",
       "max    1.250000e+06   25.500000  "
      ]
     },
     "execution_count": 13,
     "metadata": {},
     "output_type": "execute_result"
    }
   ],
   "source": [
    "df.describe()"
   ]
  },
  {
   "cell_type": "markdown",
   "id": "feb21d48",
   "metadata": {},
   "source": [
    "### Rank dos Editais"
   ]
  },
  {
   "cell_type": "code",
   "execution_count": 30,
   "id": "9a46cc15",
   "metadata": {},
   "outputs": [],
   "source": [
    "agrupado = df.groupby(\"uf\").agg(\n",
    "    qtd_pdfs=(\"pdf\", \"nunique\"),\n",
    "    valor_total=(\"valor_total\", \"sum\")\n",
    ").reset_index()"
   ]
  },
  {
   "cell_type": "code",
   "execution_count": 31,
   "id": "430928a7",
   "metadata": {},
   "outputs": [],
   "source": [
    "agrupado = agrupado.sort_values(by=\"qtd_pdfs\", ascending=False)"
   ]
  },
  {
   "cell_type": "code",
   "execution_count": 32,
   "id": "10c4f43b",
   "metadata": {},
   "outputs": [],
   "source": [
    "agrupado[\"valor_per_edital\"] = agrupado[\"valor_total\"]/agrupado[\"qtd_pdfs\"]"
   ]
  },
  {
   "cell_type": "code",
   "execution_count": 33,
   "id": "5b9e1bcb",
   "metadata": {},
   "outputs": [],
   "source": [
    "agrupado[\"valor_per_edital\"] = agrupado[\"valor_per_edital\"].apply(lambda x: f\"{x:,.2f}\")\n",
    "agrupado[\"valor_total\"]      = agrupado[\"valor_total\"].apply(lambda x: f\"{x:,.2f}\")\n"
   ]
  },
  {
   "cell_type": "code",
   "execution_count": 34,
   "id": "9b43490a",
   "metadata": {},
   "outputs": [
    {
     "data": {
      "text/html": [
       "<div>\n",
       "<style scoped>\n",
       "    .dataframe tbody tr th:only-of-type {\n",
       "        vertical-align: middle;\n",
       "    }\n",
       "\n",
       "    .dataframe tbody tr th {\n",
       "        vertical-align: top;\n",
       "    }\n",
       "\n",
       "    .dataframe thead th {\n",
       "        text-align: right;\n",
       "    }\n",
       "</style>\n",
       "<table border=\"1\" class=\"dataframe\">\n",
       "  <thead>\n",
       "    <tr style=\"text-align: right;\">\n",
       "      <th></th>\n",
       "      <th>uf</th>\n",
       "      <th>qtd_pdfs</th>\n",
       "      <th>valor_total</th>\n",
       "      <th>valor_per_edital</th>\n",
       "    </tr>\n",
       "  </thead>\n",
       "  <tbody>\n",
       "    <tr>\n",
       "      <th>8</th>\n",
       "      <td>FORTALEZA</td>\n",
       "      <td>12</td>\n",
       "      <td>9,051,094.08</td>\n",
       "      <td>754,257.84</td>\n",
       "    </tr>\n",
       "    <tr>\n",
       "      <th>13</th>\n",
       "      <td>MANAUS</td>\n",
       "      <td>9</td>\n",
       "      <td>14,686,857.14</td>\n",
       "      <td>1,631,873.02</td>\n",
       "    </tr>\n",
       "    <tr>\n",
       "      <th>10</th>\n",
       "      <td>JOÃO PESSOA</td>\n",
       "      <td>9</td>\n",
       "      <td>5,290,000.00</td>\n",
       "      <td>587,777.78</td>\n",
       "    </tr>\n",
       "    <tr>\n",
       "      <th>23</th>\n",
       "      <td>SÃO PAULO</td>\n",
       "      <td>9</td>\n",
       "      <td>48,985,200.00</td>\n",
       "      <td>5,442,800.00</td>\n",
       "    </tr>\n",
       "    <tr>\n",
       "      <th>21</th>\n",
       "      <td>SALVADOR</td>\n",
       "      <td>9</td>\n",
       "      <td>18,210,000.00</td>\n",
       "      <td>2,023,333.33</td>\n",
       "    </tr>\n",
       "    <tr>\n",
       "      <th>12</th>\n",
       "      <td>MACEIÓ</td>\n",
       "      <td>8</td>\n",
       "      <td>6,619,233.40</td>\n",
       "      <td>827,404.18</td>\n",
       "    </tr>\n",
       "    <tr>\n",
       "      <th>19</th>\n",
       "      <td>RIO BRANCO</td>\n",
       "      <td>7</td>\n",
       "      <td>4,088,000.00</td>\n",
       "      <td>584,000.00</td>\n",
       "    </tr>\n",
       "    <tr>\n",
       "      <th>14</th>\n",
       "      <td>NATAL</td>\n",
       "      <td>7</td>\n",
       "      <td>5,208,000.00</td>\n",
       "      <td>744,000.00</td>\n",
       "    </tr>\n",
       "    <tr>\n",
       "      <th>20</th>\n",
       "      <td>RIO DE JANEIRO</td>\n",
       "      <td>6</td>\n",
       "      <td>36,740,000.00</td>\n",
       "      <td>6,123,333.33</td>\n",
       "    </tr>\n",
       "    <tr>\n",
       "      <th>25</th>\n",
       "      <td>VITÓRIA</td>\n",
       "      <td>6</td>\n",
       "      <td>2,340,558.70</td>\n",
       "      <td>390,093.12</td>\n",
       "    </tr>\n",
       "    <tr>\n",
       "      <th>9</th>\n",
       "      <td>GOIÂNIA</td>\n",
       "      <td>6</td>\n",
       "      <td>9,127,450.25</td>\n",
       "      <td>1,521,241.71</td>\n",
       "    </tr>\n",
       "    <tr>\n",
       "      <th>7</th>\n",
       "      <td>FLORIANÓPOLIS</td>\n",
       "      <td>5</td>\n",
       "      <td>3,355,000.00</td>\n",
       "      <td>671,000.00</td>\n",
       "    </tr>\n",
       "    <tr>\n",
       "      <th>15</th>\n",
       "      <td>PALMAS</td>\n",
       "      <td>5</td>\n",
       "      <td>2,114,500.00</td>\n",
       "      <td>422,900.00</td>\n",
       "    </tr>\n",
       "    <tr>\n",
       "      <th>16</th>\n",
       "      <td>PORTO ALEGRE</td>\n",
       "      <td>5</td>\n",
       "      <td>8,596,000.00</td>\n",
       "      <td>1,719,200.00</td>\n",
       "    </tr>\n",
       "    <tr>\n",
       "      <th>17</th>\n",
       "      <td>PORTO VELHO</td>\n",
       "      <td>4</td>\n",
       "      <td>3,672,808.73</td>\n",
       "      <td>918,202.18</td>\n",
       "    </tr>\n",
       "    <tr>\n",
       "      <th>18</th>\n",
       "      <td>RECIFE</td>\n",
       "      <td>4</td>\n",
       "      <td>10,146,994.60</td>\n",
       "      <td>2,536,748.65</td>\n",
       "    </tr>\n",
       "    <tr>\n",
       "      <th>4</th>\n",
       "      <td>CAMPO GRANDE</td>\n",
       "      <td>4</td>\n",
       "      <td>6,638,840.80</td>\n",
       "      <td>1,659,710.20</td>\n",
       "    </tr>\n",
       "    <tr>\n",
       "      <th>22</th>\n",
       "      <td>SÃO LUIS</td>\n",
       "      <td>4</td>\n",
       "      <td>6,950,500.00</td>\n",
       "      <td>1,737,625.00</td>\n",
       "    </tr>\n",
       "    <tr>\n",
       "      <th>24</th>\n",
       "      <td>TERESINA</td>\n",
       "      <td>4</td>\n",
       "      <td>5,453,008.73</td>\n",
       "      <td>1,363,252.18</td>\n",
       "    </tr>\n",
       "    <tr>\n",
       "      <th>0</th>\n",
       "      <td>ARACAJU</td>\n",
       "      <td>4</td>\n",
       "      <td>3,800,085.32</td>\n",
       "      <td>950,021.33</td>\n",
       "    </tr>\n",
       "    <tr>\n",
       "      <th>11</th>\n",
       "      <td>MACAPÁ</td>\n",
       "      <td>3</td>\n",
       "      <td>2,538,254.06</td>\n",
       "      <td>846,084.69</td>\n",
       "    </tr>\n",
       "    <tr>\n",
       "      <th>6</th>\n",
       "      <td>CURITIBA</td>\n",
       "      <td>3</td>\n",
       "      <td>12,358,000.00</td>\n",
       "      <td>4,119,333.33</td>\n",
       "    </tr>\n",
       "    <tr>\n",
       "      <th>5</th>\n",
       "      <td>CUIABÁ</td>\n",
       "      <td>3</td>\n",
       "      <td>3,700,000.00</td>\n",
       "      <td>1,233,333.33</td>\n",
       "    </tr>\n",
       "    <tr>\n",
       "      <th>3</th>\n",
       "      <td>BOA VISTA</td>\n",
       "      <td>3</td>\n",
       "      <td>3,565,968.00</td>\n",
       "      <td>1,188,656.00</td>\n",
       "    </tr>\n",
       "    <tr>\n",
       "      <th>2</th>\n",
       "      <td>BELO HORIZONTE</td>\n",
       "      <td>3</td>\n",
       "      <td>15,630,000.00</td>\n",
       "      <td>5,210,000.00</td>\n",
       "    </tr>\n",
       "    <tr>\n",
       "      <th>1</th>\n",
       "      <td>BELÉM</td>\n",
       "      <td>1</td>\n",
       "      <td>5,224,089.00</td>\n",
       "      <td>5,224,089.00</td>\n",
       "    </tr>\n",
       "  </tbody>\n",
       "</table>\n",
       "</div>"
      ],
      "text/plain": [
       "                uf  qtd_pdfs    valor_total valor_per_edital\n",
       "8        FORTALEZA        12   9,051,094.08       754,257.84\n",
       "13          MANAUS         9  14,686,857.14     1,631,873.02\n",
       "10    JOÃO PESSOA         9   5,290,000.00       587,777.78\n",
       "23      SÃO PAULO         9  48,985,200.00     5,442,800.00\n",
       "21        SALVADOR         9  18,210,000.00     2,023,333.33\n",
       "12         MACEIÓ         8   6,619,233.40       827,404.18\n",
       "19      RIO BRANCO         7   4,088,000.00       584,000.00\n",
       "14           NATAL         7   5,208,000.00       744,000.00\n",
       "20  RIO DE JANEIRO         6  36,740,000.00     6,123,333.33\n",
       "25        VITÓRIA         6   2,340,558.70       390,093.12\n",
       "9         GOIÂNIA         6   9,127,450.25     1,521,241.71\n",
       "7   FLORIANÓPOLIS         5   3,355,000.00       671,000.00\n",
       "15          PALMAS         5   2,114,500.00       422,900.00\n",
       "16    PORTO ALEGRE         5   8,596,000.00     1,719,200.00\n",
       "17     PORTO VELHO         4   3,672,808.73       918,202.18\n",
       "18          RECIFE         4  10,146,994.60     2,536,748.65\n",
       "4     CAMPO GRANDE         4   6,638,840.80     1,659,710.20\n",
       "22       SÃO LUIS         4   6,950,500.00     1,737,625.00\n",
       "24        TERESINA         4   5,453,008.73     1,363,252.18\n",
       "0          ARACAJU         4   3,800,085.32       950,021.33\n",
       "11         MACAPÁ         3   2,538,254.06       846,084.69\n",
       "6         CURITIBA         3  12,358,000.00     4,119,333.33\n",
       "5          CUIABÁ         3   3,700,000.00     1,233,333.33\n",
       "3        BOA VISTA         3   3,565,968.00     1,188,656.00\n",
       "2   BELO HORIZONTE         3  15,630,000.00     5,210,000.00\n",
       "1           BELÉM         1   5,224,089.00     5,224,089.00"
      ]
     },
     "execution_count": 34,
     "metadata": {},
     "output_type": "execute_result"
    }
   ],
   "source": [
    "agrupado"
   ]
  },
  {
   "cell_type": "markdown",
   "id": "ee0ef313",
   "metadata": {},
   "source": []
  },
  {
   "cell_type": "markdown",
   "id": "532ac908",
   "metadata": {},
   "source": [
    "### Matriz das Cotas"
   ]
  },
  {
   "cell_type": "code",
   "execution_count": 36,
   "id": "be10e822",
   "metadata": {},
   "outputs": [
    {
     "data": {
      "text/plain": [
       "Index(['uf', 'pdf', 'cotas_negras', 'cotas_indigenas', 'cotas_pcd',\n",
       "       'vagas_totais', 'valor_total', 'instrumento_fomento', 'valor_negras',\n",
       "       'vagas_negras', 'valor_indigenas', 'vagas_indigenas', 'valor_pcd',\n",
       "       'vagas_pcd'],\n",
       "      dtype='object')"
      ]
     },
     "execution_count": 36,
     "metadata": {},
     "output_type": "execute_result"
    }
   ],
   "source": [
    "df.columns"
   ]
  },
  {
   "cell_type": "code",
   "execution_count": null,
   "id": "f270b4cc",
   "metadata": {},
   "outputs": [],
   "source": []
  }
 ],
 "metadata": {
  "kernelspec": {
   "display_name": ".venv",
   "language": "python",
   "name": "python3"
  },
  "language_info": {
   "codemirror_mode": {
    "name": "ipython",
    "version": 3
   },
   "file_extension": ".py",
   "mimetype": "text/x-python",
   "name": "python",
   "nbconvert_exporter": "python",
   "pygments_lexer": "ipython3",
   "version": "3.11.0"
  }
 },
 "nbformat": 4,
 "nbformat_minor": 5
}
