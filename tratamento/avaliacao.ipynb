{
 "cells": [
  {
   "cell_type": "code",
   "execution_count": 4,
   "id": "ca70e989",
   "metadata": {},
   "outputs": [],
   "source": [
    "import pandas as pd\n",
    "import random"
   ]
  },
  {
   "cell_type": "code",
   "execution_count": 14,
   "id": "a2156f22",
   "metadata": {},
   "outputs": [],
   "source": [
    "# Matriz Confusão\n",
    "resultados = {\n",
    "    \"valor_total\":     {\"vp\": 73, \"vn\": 0, \"fp\": 1,  \"fn\": 0},\n",
    "    \"cotas_negras\":    {\"vp\": 66, \"vn\": 0, \"fp\": 9,  \"fn\": 0},\n",
    "    \"cotas_indigenas\": {\"vp\": 66, \"vn\": 0, \"fp\": 9,  \"fn\": 0},\n",
    "    \"cotas_pcd\":       {\"vp\": 64, \"vn\": 0, \"fp\": 11, \"fn\": 0},\n",
    "    \"numero_vagas\":    {\"vp\": 72, \"vn\": 0, \"fp\": 0,  \"fn\": 2}\n",
    "}\n"
   ]
  },
  {
   "cell_type": "code",
   "execution_count": 15,
   "id": "d3797318",
   "metadata": {},
   "outputs": [],
   "source": [
    "# Função para cálculo de métricas\n",
    "def calcula_metricas(vp, fp, fn):\n",
    "    precisao  = vp / (vp + fp) if (vp + fp) > 0 else 0\n",
    "    revocacao = vp / (vp + fn) if (vp + fn) > 0 else 0\n",
    "    f1_score  = 2 * precisao * revocacao / (precisao + revocacao) if (precisao + revocacao) > 0 else 0\n",
    "    return precisao, revocacao, f1_score"
   ]
  },
  {
   "cell_type": "code",
   "execution_count": 16,
   "id": "a525d00d",
   "metadata": {},
   "outputs": [
    {
     "name": "stdout",
     "output_type": "stream",
     "text": [
      "                 precisao  revocacao  f1_score\n",
      "valor_total        0.9865      1.000    0.9932\n",
      "cotas_negras       0.8800      1.000    0.9362\n",
      "cotas_indigenas    0.8800      1.000    0.9362\n",
      "cotas_pcd          0.8533      1.000    0.9209\n",
      "numero_vagas       1.0000      0.973    0.9863\n",
      "\n",
      "F1-Score médio (macro): 0.9546\n"
     ]
    }
   ],
   "source": [
    "# Cálculo por campo\n",
    "metricas = {}\n",
    "for campo, valores in resultados.items():\n",
    "    p, r, f1 = calcula_metricas(valores[\"vp\"], valores[\"fp\"], valores[\"fn\"])\n",
    "    metricas[campo] = {\n",
    "        \"precisao\": round(p, 4),\n",
    "        \"revocacao\": round(r, 4),\n",
    "        \"f1_score\": round(f1, 4)\n",
    "    }\n",
    "\n",
    "# Conversão para DataFrame e cálculo da média macro\n",
    "df_metricas = pd.DataFrame(metricas).T\n",
    "media_f1_macro = df_metricas[\"f1_score\"].mean()\n",
    "\n",
    "print(df_metricas)\n",
    "print(f\"\\nF1-Score médio (macro): {round(media_f1_macro, 4)}\")"
   ]
  },
  {
   "cell_type": "code",
   "execution_count": null,
   "id": "e2027519",
   "metadata": {},
   "outputs": [],
   "source": []
  }
 ],
 "metadata": {
  "kernelspec": {
   "display_name": ".venv",
   "language": "python",
   "name": "python3"
  },
  "language_info": {
   "codemirror_mode": {
    "name": "ipython",
    "version": 3
   },
   "file_extension": ".py",
   "mimetype": "text/x-python",
   "name": "python",
   "nbconvert_exporter": "python",
   "pygments_lexer": "ipython3",
   "version": "3.11.0"
  }
 },
 "nbformat": 4,
 "nbformat_minor": 5
}
